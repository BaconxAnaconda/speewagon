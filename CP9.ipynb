{
 "cells": [
  {
   "cell_type": "code",
   "execution_count": 3,
   "id": "e3d68a9d",
   "metadata": {},
   "outputs": [
    {
     "name": "stdout",
     "output_type": "stream",
     "text": [
      "Enter number to check 3\n",
      "True 3 is in the position 1\n"
     ]
    }
   ],
   "source": [
    "def binary_search(arr, l, h, x):\n",
    "\tif h >= l:\n",
    "\t\tmid = (h + l) // 2\n",
    "\t\tif arr[mid] == x:\n",
    "\t\t\treturn mid\n",
    "\t\telif arr[mid] > x:\n",
    "\t\t\treturn binary_search(arr, l, mid - 1, x)\n",
    "\t\telse:\n",
    "\t\t\treturn binary_search(arr, mid + 1, h, x)\n",
    "\telse:\n",
    "\t\treturn -1\n",
    "arr = [ 2, 3, 4, 10, 40 ]\n",
    "x = int(input('Enter number to check '))\n",
    "result = binary_search(arr, 0, len(arr)-1, x)\n",
    "if result != -1:\n",
    "\tprint(\"True\", x, \"is in the position\", str(result))\n",
    "else:\n",
    "\tprint(\"False\")"
   ]
  },
  {
   "cell_type": "code",
   "execution_count": 6,
   "id": "3bf87277",
   "metadata": {},
   "outputs": [
    {
     "name": "stdout",
     "output_type": "stream",
     "text": [
      "3\n",
      "4\n",
      "81\n"
     ]
    }
   ],
   "source": [
    "power = lambda a, b : a**b\n",
    "x = int(input()) ;y = int(input())\n",
    "print(power(x,y))"
   ]
  },
  {
   "cell_type": "code",
   "execution_count": 4,
   "id": "723d35bc",
   "metadata": {},
   "outputs": [
    {
     "name": "stdout",
     "output_type": "stream",
     "text": [
      "[13, 22, 29, 37, 46, 49, 52, 56, 71]\n"
     ]
    }
   ],
   "source": [
    "def bubbleSort(my_list):\n",
    "    for bs in range(len(my_list)-1,0,-1):\n",
    "        for i in range(bs):\n",
    "            if my_list[i]>my_list[i+1]:\n",
    "                switch = my_list[i]\n",
    "                my_list[i] = my_list[i+1]\n",
    "                my_list[i+1] = switch\n",
    "my_list = [29,13,22,37,52,49,46,71,56]\n",
    "bubbleSort(my_list)\n",
    "print(my_list)"
   ]
  },
  {
   "cell_type": "code",
   "execution_count": 11,
   "id": "7ad74c81",
   "metadata": {},
   "outputs": [
    {
     "name": "stdout",
     "output_type": "stream",
     "text": [
      "[14, 21, 27, 41, 43, 45, 46, 57, 70]\n"
     ]
    }
   ],
   "source": [
    "def mergeSort(my_list):\n",
    "    if len(my_list)>1:\n",
    "        mid = len(my_list)//2\n",
    "        lh = my_list[:mid]\n",
    "        rh = my_list[mid:]\n",
    "        mergeSort(lh)\n",
    "        mergeSort(rh)\n",
    "        i=j=k=0       \n",
    "        while i < len(lh) and j < len(rh):\n",
    "            if lh[i] < rh[j]:\n",
    "                my_list[k]=lh[i]\n",
    "                i=i+1\n",
    "            else:\n",
    "                my_list[k]=rh[j]\n",
    "                j=j+1\n",
    "            k=k+1\n",
    "        while i < len(lh):\n",
    "            my_list[k]=lh[i]\n",
    "            i=i+1\n",
    "            k=k+1\n",
    "        while j < len(rh):\n",
    "            my_list[k]=rh[j]\n",
    "            j=j+1\n",
    "            k=k+1\n",
    "my_list = [14,46,43,27,57,41,45,21,70]\n",
    "mergeSort(my_list)\n",
    "print(my_list)"
   ]
  },
  {
   "cell_type": "code",
   "execution_count": 12,
   "id": "622b0c66",
   "metadata": {},
   "outputs": [
    {
     "name": "stdout",
     "output_type": "stream",
     "text": [
      "[13, 22, 29, 37, 46, 49, 52, 56, 71]\n"
     ]
    }
   ],
   "source": [
    "def QS(dL):\n",
    "   QSHlp(dL,0,len(dL)-1)\n",
    "   \n",
    "def QSHlp(dL,first,last):\n",
    "   if first < last:\n",
    "       splitpoint = partition(dL,first,last)\n",
    "       QSHlp(dL,first,splitpoint-1)\n",
    "       QSHlp(dL,splitpoint+1,last)\n",
    "       \n",
    "def partition(dL,first,last):\n",
    "   pivotvalue = dL[first]\n",
    "   lm = first+1\n",
    "   rm = last\n",
    "   done = False\n",
    "   while not done:\n",
    "       while lm <= rm and dL[lm] <= pivotvalue:\n",
    "           lm = lm + 1\n",
    "       while dL[rm] >= pivotvalue and rm >= lm:\n",
    "           rm = rm -1\n",
    "       if rm < lm:\n",
    "           done = True\n",
    "       else:\n",
    "           switch = dL[lm]\n",
    "           dL[lm] = dL[rm]\n",
    "           dL[rm] = switch\n",
    "   switch = dL[first]\n",
    "   dL[first] = dL[rm]\n",
    "   dL[rm] = switch\n",
    "   return rm\n",
    "   \n",
    "dL = [29,13,22,37,52,49,46,71,56]\n",
    "QS(dL)\n",
    "print(dL)"
   ]
  },
  {
   "cell_type": "code",
   "execution_count": null,
   "id": "e164ffe7",
   "metadata": {},
   "outputs": [],
   "source": []
  }
 ],
 "metadata": {
  "kernelspec": {
   "display_name": "Python 3",
   "language": "python",
   "name": "python3"
  },
  "language_info": {
   "codemirror_mode": {
    "name": "ipython",
    "version": 3
   },
   "file_extension": ".py",
   "mimetype": "text/x-python",
   "name": "python",
   "nbconvert_exporter": "python",
   "pygments_lexer": "ipython3",
   "version": "3.8.8"
  }
 },
 "nbformat": 4,
 "nbformat_minor": 5
}
